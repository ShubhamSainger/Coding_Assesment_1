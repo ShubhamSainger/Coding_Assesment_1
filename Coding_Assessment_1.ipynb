{
 "cells": [
  {
   "cell_type": "markdown",
   "id": "f5cab33b",
   "metadata": {},
   "source": [
    "# Write a code to take any 10 numbers in a list and put all the even numbers as well as prime numbers in a dictionary. Your output should look something like this:\n",
    "## Suppose the list has following 10 numbers:\n",
    "## [25, 36, 31, 17, 61, 19, 58, 39, 67, 81]\n",
    "## Then the output of your program should look something like this:\n",
    "## {'even' : [36, 58], 'prime' : [31, 17, 61, 19, 67]}"
   ]
  },
  {
   "cell_type": "code",
   "execution_count": 275,
   "id": "a4b387f1",
   "metadata": {},
   "outputs": [],
   "source": [
    "n = 10\n",
    "values = []\n",
    "result_dict = {\"even\":[],\"prime\":[]}"
   ]
  },
  {
   "cell_type": "code",
   "execution_count": 277,
   "id": "4b62fe4c",
   "metadata": {
    "scrolled": true
   },
   "outputs": [
    {
     "name": "stdout",
     "output_type": "stream",
     "text": [
      "25\n",
      "36\n",
      "31\n",
      "17\n",
      "61\n",
      "19\n",
      "58\n",
      "39\n",
      "67\n",
      "81\n"
     ]
    }
   ],
   "source": [
    "for i in range(0,n):\n",
    "    values.append(int(input())) # Loop for getting values from user"
   ]
  },
  {
   "cell_type": "code",
   "execution_count": 279,
   "id": "90153bff",
   "metadata": {},
   "outputs": [],
   "source": [
    "for i in values:\n",
    "    if i%2 == 0:\n",
    "        result_dict[\"even\"] = result_dict[\"even\"] + [i]\n",
    "    \n",
    "    for j in range(2,int(i/2)+1):   \n",
    "        if i%j == 0:\n",
    "            break\n",
    "            \n",
    "        elif i == (j*2)+1:\n",
    "            result_dict['prime'] = result_dict[\"prime\"] + [i]\n",
    "            "
   ]
  },
  {
   "cell_type": "code",
   "execution_count": 280,
   "id": "6ca94965",
   "metadata": {},
   "outputs": [
    {
     "data": {
      "text/plain": [
       "{'even': [36, 58], 'prime': [31, 17, 61, 19, 67]}"
      ]
     },
     "execution_count": 280,
     "metadata": {},
     "output_type": "execute_result"
    }
   ],
   "source": [
    "result_dict"
   ]
  }
 ],
 "metadata": {
  "kernelspec": {
   "display_name": "Python 3 (ipykernel)",
   "language": "python",
   "name": "python3"
  },
  "language_info": {
   "codemirror_mode": {
    "name": "ipython",
    "version": 3
   },
   "file_extension": ".py",
   "mimetype": "text/x-python",
   "name": "python",
   "nbconvert_exporter": "python",
   "pygments_lexer": "ipython3",
   "version": "3.10.9"
  }
 },
 "nbformat": 4,
 "nbformat_minor": 5
}
